{
  "cells": [
    {
      "cell_type": "markdown",
      "metadata": {
        "id": "view-in-github",
        "colab_type": "text"
      },
      "source": [
        "<a href=\"https://colab.research.google.com/github/gracetully/github-tutorial/blob/main/ps2.ipynb\" target=\"_parent\"><img src=\"https://colab.research.google.com/assets/colab-badge.svg\" alt=\"Open In Colab\"/></a>"
      ]
    },
    {
      "cell_type": "markdown",
      "metadata": {
        "id": "61yvpT98WnGK"
      },
      "source": [
        "# Problem Set 2\n",
        "#### CMSI 1010: Computer Programming and Lab"
      ]
    },
    {
      "cell_type": "markdown",
      "metadata": {
        "id": "91aSKjx4WnGR"
      },
      "source": [
        "## Important Dates\n",
        "\n",
        " - Released: 2022-02-01 at 12:00 am [PT]\n",
        " - Deadline: 2022-02-10 at 11:59 pm [PT]"
      ]
    },
    {
      "cell_type": "markdown",
      "metadata": {
        "id": "NiHIWEY_WnGT"
      },
      "source": [
        "# Question 1: Reading Notes\n",
        "\n",
        "All readings are from the [_Think Python_ textbook](http://greenteapress.com/thinkpython2/thinkpython2.pdf):\n",
        "* Chapter 3\n",
        "* Sections 5.1-5.3\n",
        "* Sections 6.1-6.4\n",
        "\n",
        "You should also review Sections 1.4-1.5 and 2.5.\n",
        "\n",
        "Once you have studied the reading notes, write a summary in the text cell below."
      ]
    },
    {
      "cell_type": "markdown",
      "metadata": {
        "id": "NnKi5oZIWnGU"
      },
      "source": [
        "#Chapter 3 Functions Review\n",
        "> 3.1 Function Calls:\n",
        "\n",
        "\n",
        "*   name of a function: type\n",
        "*   expression in parenthesis: argument \n",
        "* functions take arguments and return results (return value)\n",
        "\n",
        "> 3.2 Math Functions \n",
        "\n",
        "\n",
        "\n",
        "*   module: a file that contains a collection of related functions\n",
        "*   python has a math module \n",
        "* modules must be imported with import statements \n",
        "* dot notation with name of module , dot, name of function (ex/ math.log10())\n",
        "\n",
        "> 3.3 Composition \n",
        "\n",
        "* the argument of a function can be any kind of expression, including arithmetic operators\n",
        "\n",
        "> 3.4 Adding new functions \n",
        "\n",
        "*   First line of function is header, the rest is the body \n",
        "*   indentation is always 4 spaces by convention \n",
        "* to end the function, enter an empty line \n",
        "*function is a type\n",
        "* can call functions within a function \n",
        "\n",
        "> 3.5 Definitions and uses \n",
        "\n",
        "*must create a function before running it \n",
        "\n",
        "> 3.6 Flow of execution \n",
        "\n",
        "\n",
        "*   Flow of execution: the order statements run in \n",
        "*  Function definitions do not alter flow of execution of the program \n",
        "\n",
        "> 3.7 Parameters and Arguments \n",
        "\n",
        "\n",
        "\n",
        "*   inside the function, arguments are assigned to variables called parameters \n",
        "\n",
        "> 3.8 Variables and parameters are local \n",
        "\n",
        "*   as discussed in class, variable and parameters defined within a function are local and cannot be called within the same code outside of the function \n",
        "\n",
        ">3.9 Stack Diagrams \n",
        "\n",
        "*   stack diagrams show the value of each variable, and the function each variable belongs to \n",
        "*   each function is represented by a frame (a box with the name of a function beside it)\n",
        "* The list of functions is called a traceback \n",
        "\n",
        ">3.10 Void vs Fruitful functions \n",
        "\n",
        "*   Fruitful functions have a return value \n",
        "*   void functions show a result but don't produce a value \n",
        "\n",
        "> 3.11-3.12 Purpose of functions/Debugging \n",
        "\n",
        "\n",
        "*   functions are useful to eliminate errors and save time with extra code as well as facilitate debugging \n",
        "*   debugging with functions is sometimes difficult \n",
        "\n",
        "> 5.1-5.3 \n",
        "\n",
        "These chapters cover the different operators within python, such as floor dividion //, which produces a rounded number, as well as the modulus % operator. Boolean exressions, those that are either true or false, are also outlined in this chapter. True and False are a special type called bool. The logical operators and, or, not, are also discussed. \n",
        "\n",
        "> 6.1 - 6.4 Fruitful functions \n",
        "\n",
        "6.1 discusses return statements within fruitful functions. Code after a return statement is called \"dead code\" and has no value. 6.2 discusses incremental development, or how it is important to test small amounts of code at a time to make debugging easier. 6.3 discusses how composing the function is important to be consise and avoid debugging. \n",
        "6.4 discussed how boolean functins are often useful in python functions. \n",
        "\n",
        "\n",
        "\n",
        "\n",
        "\n",
        "\n",
        "\n",
        "\n",
        "\n",
        "\n",
        "\n",
        "\n",
        "\n",
        "\n",
        "\n",
        "\n",
        "\n"
      ]
    },
    {
      "cell_type": "markdown",
      "metadata": {
        "id": "rarhHB-CWnGU"
      },
      "source": [
        "# Question 2 : print vs. return"
      ]
    },
    {
      "cell_type": "markdown",
      "metadata": {
        "id": "NGptEeOCWnGV"
      },
      "source": [
        "### Part A\n",
        "Run the code cell below."
      ]
    },
    {
      "cell_type": "code",
      "execution_count": 1,
      "metadata": {
        "id": "WrLrji8yWnGV"
      },
      "outputs": [],
      "source": [
        "def f1(x):\n",
        "    print(x + 1)\n",
        "\n",
        "def f2(x):\n",
        "    return(x + 1)"
      ]
    },
    {
      "cell_type": "code",
      "execution_count": 2,
      "metadata": {
        "id": "LsubNq6dWnGX",
        "outputId": "d5cddb61-5543-47c9-f009-16841250acbe",
        "colab": {
          "base_uri": "https://localhost:8080/"
        }
      },
      "outputs": [
        {
          "output_type": "stream",
          "name": "stdout",
          "text": [
            "4\n"
          ]
        }
      ],
      "source": [
        "f1(3)"
      ]
    },
    {
      "cell_type": "code",
      "execution_count": 3,
      "metadata": {
        "id": "km_UE7pwWnGY",
        "outputId": "5500d95b-8aa0-4874-8868-aab1615b8c7b",
        "colab": {
          "base_uri": "https://localhost:8080/"
        }
      },
      "outputs": [
        {
          "output_type": "execute_result",
          "data": {
            "text/plain": [
              "4"
            ]
          },
          "metadata": {},
          "execution_count": 3
        }
      ],
      "source": [
        "f2(3)  "
      ]
    },
    {
      "cell_type": "markdown",
      "metadata": {
        "id": "ivD4m-BqWnGZ"
      },
      "source": [
        " What happens when we call these functions? It looks like they behave in exactly the same way, but they really don’t. Type your answer in the cell below:"
      ]
    },
    {
      "cell_type": "markdown",
      "metadata": {
        "id": "q1Bt1bI4WnGZ"
      },
      "source": [
        "Although both functions appear to behave in the same way, f2 produces a value that can be included in further functions or actions within the code. Calling f1 prints the value of \"x + 1\", but that value is not actually stored. "
      ]
    },
    {
      "cell_type": "markdown",
      "metadata": {
        "id": "6orNsg99WnGa"
      },
      "source": [
        "### Part B\n",
        "Now run this code cell"
      ]
    },
    {
      "cell_type": "code",
      "execution_count": 4,
      "metadata": {
        "id": "j0Va2-_hWnGa",
        "outputId": "ae0fa87a-bf62-4a43-cf81-16d166806afb",
        "colab": {
          "base_uri": "https://localhost:8080/"
        }
      },
      "outputs": [
        {
          "output_type": "stream",
          "name": "stdout",
          "text": [
            "4\n"
          ]
        }
      ],
      "source": [
        "a = f1(3)\n",
        "b = f2(3)"
      ]
    },
    {
      "cell_type": "code",
      "execution_count": 5,
      "metadata": {
        "id": "nxFEitTtWnGa"
      },
      "outputs": [],
      "source": [
        "a"
      ]
    },
    {
      "cell_type": "code",
      "execution_count": 6,
      "metadata": {
        "id": "VFuyMvxyWnGb",
        "outputId": "27d219ee-2350-4c06-ef70-dd1ccf7ae7aa",
        "colab": {
          "base_uri": "https://localhost:8080/"
        }
      },
      "outputs": [
        {
          "output_type": "execute_result",
          "data": {
            "text/plain": [
              "4"
            ]
          },
          "metadata": {},
          "execution_count": 6
        }
      ],
      "source": [
        "b    "
      ]
    },
    {
      "cell_type": "markdown",
      "metadata": {
        "id": "5L4OgErlWnGb"
      },
      "source": [
        "What are the values of `a` and `b`? Why are they different? Type your answer in the cell below:"
      ]
    },
    {
      "cell_type": "markdown",
      "metadata": {
        "id": "YQXj8wRJWnGb"
      },
      "source": [
        "The value of a is a print statement expression, but it only appears when the function is called. The value of be is the integer 4, which comes from the mathematical expression x + 1 with the input of 3. "
      ]
    },
    {
      "cell_type": "markdown",
      "metadata": {
        "id": "i-xhIDmkWnGc"
      },
      "source": [
        "### Part C\n",
        "Run the code cell below"
      ]
    },
    {
      "cell_type": "code",
      "execution_count": 7,
      "metadata": {
        "id": "POhISIjCWnGc",
        "outputId": "9052acd2-6087-4b59-b4b1-502313d1b13a",
        "colab": {
          "base_uri": "https://localhost:8080/"
        }
      },
      "outputs": [
        {
          "output_type": "stream",
          "name": "stdout",
          "text": [
            "4\n",
            "None\n"
          ]
        }
      ],
      "source": [
        "print(f1(3))"
      ]
    },
    {
      "cell_type": "code",
      "execution_count": 8,
      "metadata": {
        "id": "bp-wwRuiWnGc",
        "outputId": "04fffa92-8697-47f5-ad7b-1e92d17964e9",
        "colab": {
          "base_uri": "https://localhost:8080/"
        }
      },
      "outputs": [
        {
          "output_type": "stream",
          "name": "stdout",
          "text": [
            "4\n"
          ]
        }
      ],
      "source": [
        "print(f2(3))"
      ]
    },
    {
      "cell_type": "markdown",
      "metadata": {
        "id": "tfVw2wOQWnGd"
      },
      "source": [
        " What is the output? Why are you getting this output? Type your answer in the cell below:"
      ]
    },
    {
      "cell_type": "markdown",
      "metadata": {
        "id": "DHgeBhx4WnGd"
      },
      "source": [
        "The first code cell prints 4 and then none... the first 4 comes from the print statement within the function f1. Because the function does not return a value, the automatic return value is \"none\", which is why it is printed subsequently. The second code cell prints a single 4 because the value is returned from the function f2 then printed by the print statement. \n",
        "\n"
      ]
    },
    {
      "cell_type": "markdown",
      "metadata": {
        "id": "3a3ckVY1WnGd"
      },
      "source": [
        "### Part D\n",
        "You know the drill 😁"
      ]
    },
    {
      "cell_type": "code",
      "execution_count": 11,
      "metadata": {
        "id": "Tiq6bsT9WnGe",
        "outputId": "a95f4167-8a30-4cf9-8ef5-78ac5665927a",
        "colab": {
          "base_uri": "https://localhost:8080/",
          "height": 183
        }
      },
      "outputs": [
        {
          "output_type": "stream",
          "name": "stdout",
          "text": [
            "4\n"
          ]
        },
        {
          "output_type": "error",
          "ename": "TypeError",
          "evalue": "ignored",
          "traceback": [
            "\u001b[0;31m---------------------------------------------------------------------------\u001b[0m",
            "\u001b[0;31mTypeError\u001b[0m                                 Traceback (most recent call last)",
            "\u001b[0;32m<ipython-input-11-3174c89eb240>\u001b[0m in \u001b[0;36m<module>\u001b[0;34m()\u001b[0m\n\u001b[0;32m----> 1\u001b[0;31m \u001b[0mf1\u001b[0m\u001b[0;34m(\u001b[0m\u001b[0;36m3\u001b[0m\u001b[0;34m)\u001b[0m \u001b[0;34m+\u001b[0m \u001b[0;36m1\u001b[0m\u001b[0;34m\u001b[0m\u001b[0;34m\u001b[0m\u001b[0m\n\u001b[0m",
            "\u001b[0;31mTypeError\u001b[0m: unsupported operand type(s) for +: 'NoneType' and 'int'"
          ]
        }
      ],
      "source": [
        "f1(3) + 1"
      ]
    },
    {
      "cell_type": "code",
      "execution_count": 14,
      "metadata": {
        "id": "0Nr_K4HIWnGe",
        "outputId": "a8f17bb0-bc2c-4a82-a1e7-2695cc1313da",
        "colab": {
          "base_uri": "https://localhost:8080/"
        }
      },
      "outputs": [
        {
          "output_type": "execute_result",
          "data": {
            "text/plain": [
              "5"
            ]
          },
          "metadata": {},
          "execution_count": 14
        }
      ],
      "source": [
        "f2(3) + 1"
      ]
    },
    {
      "cell_type": "markdown",
      "metadata": {
        "id": "3nd6IeeTWnGe"
      },
      "source": [
        "Study the output lines.\n",
        "    \n",
        "    1. Why are you getting this output?"
      ]
    },
    {
      "cell_type": "markdown",
      "metadata": {
        "id": "SGWbZxFrWnGe"
      },
      "source": [
        "We are getting the error in block 1 because f1 does not return an integer or float value capable of mathematical operations. The second attempt for mathematical operations in block 2 is successful because a value capable of mathematical operations is returned. "
      ]
    },
    {
      "cell_type": "markdown",
      "metadata": {
        "id": "x9zJt3MdWnGf"
      },
      "source": [
        "    2. What do all these examples tell us about when we want to return and when we want to print? (or, put another way: When is printing useful? When is returning useful?)  "
      ]
    },
    {
      "cell_type": "markdown",
      "metadata": {
        "id": "ZUAiBObUWnGf"
      },
      "source": [
        "The only cases where I see printing useful is outside of a function or within a function that specifically is meant to print large sections of data repeatedly. "
      ]
    },
    {
      "cell_type": "markdown",
      "metadata": {
        "id": "egKazOtgWnGf"
      },
      "source": [
        "_Note:_ You might find it more helpful to explicitly `return None` when you don’t want your function to return anything. This way, you’ll always remember that what Python is _actually_ doing is returning `None` if you don’t tell it to return."
      ]
    },
    {
      "cell_type": "markdown",
      "metadata": {
        "id": "A3b21Uu3WnGf"
      },
      "source": [
        "## Question 3: Mystery program\n",
        "\n",
        "(This is problem 6.1 in the book.) _Do not run this program._ Just look at it and determine the output. Trace what’s happening using a diagram. Find out what the final outcome is, and _show your work_.\n",
        "    "
      ]
    },
    {
      "cell_type": "markdown",
      "metadata": {
        "id": "3O1y0O8LWnGf"
      },
      "source": [
        "    def b(z):\n",
        "        prod = a(z, z)\n",
        "        print(z, prod)\n",
        "        return prod\n",
        "\n",
        "    def a(x, y):\n",
        "        x = x + 1\n",
        "        return x * y\n",
        "\n",
        "    def c(x, y, z):\n",
        "        total = x + y + z\n",
        "        square = b(total) ** 2\n",
        "        return square\n",
        "\n",
        "    x = 1\n",
        "    y = x + 1\n",
        "    print(c(x, y + 3, x + y))"
      ]
    },
    {
      "cell_type": "markdown",
      "metadata": {
        "id": "fOiUk5D7WnGg"
      },
      "source": [
        "You may either draw the diagram by hand or use a drawing program. If you draw the diagram by hand, take picture or scan it. \n",
        "Upload your image to your google drive and make sure it's a public folder and get the shareable link by right-clicking on the picture and choose 'Get a sharable link'. You just need the id of the image so copy that (the id is between /d/ and /view). ** There is a text cell below but it is invisible, you have to click below to make it show.** Now paste the ID in the link below where it says \"PASTE ID HERE.\""
      ]
    },
    {
      "cell_type": "markdown",
      "metadata": {
        "id": "yvcf3QjrWnGg"
      },
      "source": [
        "![](https://drive.google.com/uc?export=view&id=PASTE_ID_HERE)"
      ]
    },
    {
      "cell_type": "markdown",
      "metadata": {
        "id": "b1tT41BuWnGg"
      },
      "source": [
        "## Question 4: Guess my number"
      ]
    },
    {
      "cell_type": "markdown",
      "metadata": {
        "id": "piw9kqjQWnGg"
      },
      "source": [
        "Write a Guess My Number! game. In this game, your program will choose a number, and the user tries to guess that number. Here is an example of how the program will work:"
      ]
    },
    {
      "cell_type": "markdown",
      "metadata": {
        "id": "pLpcXJqOWnGg"
      },
      "source": [
        "    Ready to guess? My number is between 0 and 30.\n",
        "    Enter your guess now:\n",
        "    ? 5\n",
        "    Too low!\n",
        "    ? 20\n",
        "    Too high!\n",
        "    ? 13\n",
        "    Too low!\n",
        "    ? 17\n",
        "    Correct! You win!  "
      ]
    },
    {
      "cell_type": "markdown",
      "metadata": {
        "id": "5gvC4S9bWnGh"
      },
      "source": [
        "For this game, we will need to generate a random number for the user to guess. For this, import the `random` module (review the lab notebooks for a refresher). We’ll use this module to generate a random integer using the function `randint` as follows: `random.randint(lo, hi)`, where `lo` and `hi` are integers that tell the code the range in which to generate a random integer (this range is inclusive). Let’s use 0 to 30 for now."
      ]
    },
    {
      "cell_type": "markdown",
      "metadata": {
        "id": "6xj495JjWnGh"
      },
      "source": [
        "Write a function `guess_compare` that asks the user for a guess (remember how to get user input?), then compares that guess with the correct number and prints out `Too low!`, `Too high!`, or `Correct!`\n",
        "\n",
        "Give the user five guesses. If the user has not yet guessed the number, print out the correct answer. _Hint: Your function `guess_compare` will need to return whether the guess was correct._\n",
        "    \n",
        "Test your game."
      ]
    },
    {
      "cell_type": "code",
      "execution_count": null,
      "metadata": {
        "id": "4on7h8EsWnGh"
      },
      "outputs": [],
      "source": [
        "# your code here"
      ]
    }
  ],
  "metadata": {
    "kernelspec": {
      "display_name": "Python 3",
      "language": "python",
      "name": "python3"
    },
    "language_info": {
      "codemirror_mode": {
        "name": "ipython",
        "version": 3
      },
      "file_extension": ".py",
      "mimetype": "text/x-python",
      "name": "python",
      "nbconvert_exporter": "python",
      "pygments_lexer": "ipython3",
      "version": "3.8.5"
    },
    "colab": {
      "name": "ps2.ipynb",
      "provenance": [],
      "include_colab_link": true
    }
  },
  "nbformat": 4,
  "nbformat_minor": 0
}